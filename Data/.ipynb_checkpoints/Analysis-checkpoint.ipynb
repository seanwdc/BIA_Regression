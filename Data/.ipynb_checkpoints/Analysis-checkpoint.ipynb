{
 "cells": [
  {
   "cell_type": "code",
   "execution_count": 68,
   "metadata": {},
   "outputs": [],
   "source": [
    "import pandas as pd\n",
    "import numpy as np\n",
    "import os\n",
    "import matplotlib.pyplot as plt"
   ]
  },
  {
   "cell_type": "code",
   "execution_count": 85,
   "metadata": {},
   "outputs": [],
   "source": [
    "train_df = pd.read_csv('train.csv')"
   ]
  },
  {
   "cell_type": "markdown",
   "metadata": {},
   "source": [
    "Based on 4 Criterion: Relevance, Missing data, balance of the data and repeated columns\n"
   ]
  },
  {
   "cell_type": "code",
   "execution_count": 86,
   "metadata": {},
   "outputs": [],
   "source": [
    "insufficient_data = ['Alley', 'Fence', 'MiscFeature', 'PoolQC', 'FireplaceQu', \n",
    "                     'LotFrontage']\n",
    "\n",
    "imbalanced_data = ['3SsnPorch','BsmtCond', 'GarageQual', 'GarageCond', 'Heating', 'LandContour', \n",
    "                   'LandSlope', 'LowQualFinSF','PoolArea', 'RoofMatl', 'Street', 'Utilities']\n",
    "\n",
    "nonsense_data = ['Condition1', 'Condition2', 'Functional', 'GarageType', 'GarageYrBlt', \n",
    "                 'BsmtHalfBath','LotConfig', 'LotShape', 'PavedDrive', 'MoSold', 'SaleCondition',\n",
    "                 'YrSold','Id']\n",
    "\n",
    "extra_data = ['GarageCars', 'GarageFinish', 'BsmtFullBath', 'YearBuilt']\n",
    "\n",
    "train_df.drop(insufficient_data + imbalanced_data + nonsense_data + extra_data, axis = 1,\n",
    "             inplace = True)"
   ]
  },
  {
   "cell_type": "code",
   "execution_count": 91,
   "metadata": {},
   "outputs": [
    {
     "data": {
      "text/plain": [
       "(1460, 46)"
      ]
     },
     "execution_count": 91,
     "metadata": {},
     "output_type": "execute_result"
    }
   ],
   "source": [
    "train_df.columns\n",
    "train_df.shape"
   ]
  },
  {
   "cell_type": "code",
   "execution_count": 106,
   "metadata": {},
   "outputs": [],
   "source": [
    "def correlation(dataset, threshold):\n",
    "    corr_cols = []\n",
    "    corr_matrix = dataset.corr()\n",
    "    for i in range(len(corr_matrix.columns)):\n",
    "        for j in range(i):\n",
    "            if (corr_matrix.iloc[i, j] >= threshold):\n",
    "                corr_cols.append((corr_matrix.columns[i],corr_matrix.columns[j], corr_matrix.iloc[i,j]))\n",
    "    return corr_cols\n",
    "#     print(dataset)"
   ]
  },
  {
   "cell_type": "code",
   "execution_count": 107,
   "metadata": {},
   "outputs": [
    {
     "data": {
      "text/plain": [
       "[('1stFlrSF', 'TotalBsmtSF', 0.8195299750050355),\n",
       " ('TotRmsAbvGrd', 'GrLivArea', 0.8254893743088377),\n",
       " ('SalePrice', 'OverallQual', 0.7909816005838047)]"
      ]
     },
     "execution_count": 107,
     "metadata": {},
     "output_type": "execute_result"
    }
   ],
   "source": [
    "correlation(train_df,0.75)\n",
    "\n",
    "# train_df.shape"
   ]
  },
  {
   "cell_type": "code",
   "execution_count": 105,
   "metadata": {},
   "outputs": [
    {
     "data": {
      "text/plain": [
       "0       Gd\n",
       "1       Gd\n",
       "2       Gd\n",
       "3       TA\n",
       "4       Gd\n",
       "        ..\n",
       "1455    Gd\n",
       "1456    Gd\n",
       "1457    TA\n",
       "1458    TA\n",
       "1459    TA\n",
       "Name: BsmtQual, Length: 1460, dtype: object"
      ]
     },
     "execution_count": 105,
     "metadata": {},
     "output_type": "execute_result"
    }
   ],
   "source": [
    "# train_df.corr()\n",
    "train_df['BsmtQual']"
   ]
  },
  {
   "cell_type": "code",
   "execution_count": 83,
   "metadata": {
    "scrolled": true
   },
   "outputs": [
    {
     "data": {
      "text/plain": [
       "MasVnrType      0.005479\n",
       "MasVnrArea      0.005479\n",
       "BsmtQual        0.025342\n",
       "BsmtExposure    0.026027\n",
       "BsmtFinType1    0.025342\n",
       "BsmtFinType2    0.026027\n",
       "Electrical      0.000685\n",
       "dtype: float64"
      ]
     },
     "execution_count": 83,
     "metadata": {},
     "output_type": "execute_result"
    }
   ],
   "source": [
    "# train_df[train_df.columns[(train_df.isna().sum() / train_df.shape[0]) > 0]]\n",
    "pd_series = train_df.isna().sum() / train_df.shape[0]\n",
    "pd_series[pd_series > 0]\n",
    "# train_df.columns"
   ]
  },
  {
   "cell_type": "code",
   "execution_count": null,
   "metadata": {
    "scrolled": true
   },
   "outputs": [],
   "source": [
    "# # train_df.isnull().sum() / train_df.shape[0] \n",
    "# train_df['PoolArea'].hist()\n",
    "# plt.show()\n",
    "# print(train_df['PoolArea'].describe())\n",
    "# # train_df.shape"
   ]
  },
  {
   "cell_type": "code",
   "execution_count": 46,
   "metadata": {},
   "outputs": [
    {
     "data": {
      "text/plain": [
       "MasVnrType      0.005479\n",
       "MasVnrArea      0.005479\n",
       "BsmtQual        0.025342\n",
       "BsmtExposure    0.026027\n",
       "BsmtFinType1    0.025342\n",
       "BsmtFinType2    0.026027\n",
       "Electrical      0.000685\n",
       "dtype: float64"
      ]
     },
     "execution_count": 46,
     "metadata": {},
     "output_type": "execute_result"
    }
   ],
   "source": [
    "# train_df[train_df.columns[(train_df.isna().sum() / train_df.shape[0]) > 0]]\n",
    "pd_series = train_df.isna().sum() / train_df.shape[0]\n",
    "pd_series[pd_series > 0]\n",
    "# train_df.columns"
   ]
  },
  {
   "cell_type": "code",
   "execution_count": null,
   "metadata": {},
   "outputs": [],
   "source": [
    "# train_df['BsmtExposure'] = train_df['BsmtExposure'].fillna('No Basement')\n",
    "train_df[(train_df['BsmtFinType1'].isna() == False) & (train_df['BsmtFinType2'].isna() == True)][['BsmtFinType1', 'BsmtFinType2']]"
   ]
  },
  {
   "cell_type": "code",
   "execution_count": null,
   "metadata": {},
   "outputs": [],
   "source": [
    "# missing_vals = train_df[train_df.columns[train_df.isnull().sum() >0]]\n",
    "# missing_vals\n",
    "# # list(train_df.columns)\n",
    "# to_drop = list(train_df.columns[train_df.isna().sum() > 300])\n",
    "# train_df.drop(to_drop, axis =1, inplace = True)\n",
    "# train_df[['GarageCars','GarageArea']]"
   ]
  },
  {
   "cell_type": "code",
   "execution_count": null,
   "metadata": {},
   "outputs": [],
   "source": [
    "# vars_to_use = ['MSSubClass','LotArea', 'LotFrontage', '']\n",
    "\n",
    "# train_df[['LotFrontage','LotArea']].corr()"
   ]
  }
 ],
 "metadata": {
  "kernelspec": {
   "display_name": "Python 3",
   "language": "python",
   "name": "python3"
  },
  "language_info": {
   "codemirror_mode": {
    "name": "ipython",
    "version": 3
   },
   "file_extension": ".py",
   "mimetype": "text/x-python",
   "name": "python",
   "nbconvert_exporter": "python",
   "pygments_lexer": "ipython3",
   "version": "3.7.0"
  }
 },
 "nbformat": 4,
 "nbformat_minor": 2
}
