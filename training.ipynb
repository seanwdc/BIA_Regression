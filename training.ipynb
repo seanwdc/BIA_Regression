{
 "cells": [
  {
   "cell_type": "code",
   "execution_count": 1,
   "metadata": {},
   "outputs": [],
   "source": [
    "import pandas as pd\n",
    "import numpy as np\n",
    "from sklearn.linear_model import LinearRegression, Ridge, Lasso, LassoCV\n",
    "from sklearn.model_selection import cross_validate\n",
    "from sklearn import metrics\n",
    "from sklearn.ensemble import RandomForestRegressor\n",
    "from sklearn.model_selection import GridSearchCV, RandomizedSearchCV, train_test_split"
   ]
  },
  {
   "cell_type": "code",
   "execution_count": 8,
   "metadata": {},
   "outputs": [],
   "source": [
    "one_hot_df = pd.read_csv('./Data/one_hot_df.csv')\n",
    "label_df = pd.read_csv('./Data/label_df.csv')\n",
    "y = one_hot_df['SalePrice']\n",
    "X = one_hot_df.drop(['SalePrice'], axis =1)"
   ]
  },
  {
   "cell_type": "markdown",
   "metadata": {},
   "source": [
    "## Linear Regression"
   ]
  },
  {
   "cell_type": "code",
   "execution_count": 52,
   "metadata": {},
   "outputs": [
    {
     "name": "stdout",
     "output_type": "stream",
     "text": [
      "CV PREDICTION ERROR FOR MULTIVARIATE LR\n",
      "0.15076176717943116\n"
     ]
    }
   ],
   "source": [
    "lr_model = LinearRegression()\n",
    "metrics = cross_validate(lr_model, X,y,cv = 5, scoring = ('neg_root_mean_squared_error'))\n",
    "lr_cv = -metrics['test_score'].mean()\n",
    "print('CV PREDICTION ERROR FOR MULTIVARIATE LR')\n",
    "print(lr_cv)"
   ]
  },
  {
   "cell_type": "markdown",
   "metadata": {},
   "source": [
    "This linear regression model uses all the fatures, and does not perform any subset selesction stepwise selection methodology. When we use k fold cross validation, we get a cross validation prediction error of 0.1508"
   ]
  },
  {
   "cell_type": "markdown",
   "metadata": {},
   "source": [
    "## Ridge Regression"
   ]
  },
  {
   "cell_type": "code",
   "execution_count": 53,
   "metadata": {},
   "outputs": [
    {
     "name": "stdout",
     "output_type": "stream",
     "text": [
      "CV PREDICTION ERROR FOR UNTUNED RR\n",
      "0.14128730494282382\n"
     ]
    }
   ],
   "source": [
    "param_list = []\n",
    "start = 10\n",
    "for i in range(30):\n",
    "    param_list.append(start)\n",
    "    start = start + 0.25\n",
    "\n",
    "parameters = {'alpha': param_list} \n",
    "rr = Ridge()\n",
    "metrics = cross_validate(rr, X, y, cv = 5, scoring = ('neg_root_mean_squared_error'))\n",
    "print('CV PREDICTION ERROR FOR UNTUNED RR')\n",
    "print(-metrics['test_score'].mean())"
   ]
  },
  {
   "cell_type": "markdown",
   "metadata": {},
   "source": [
    "Tuning the ridge regression model"
   ]
  },
  {
   "cell_type": "code",
   "execution_count": 102,
   "metadata": {},
   "outputs": [
    {
     "name": "stdout",
     "output_type": "stream",
     "text": [
      "CV PREDICTION ERROR FOR TUNED RR\n",
      "0.1363310366409711\n",
      "{'alpha': 14.75}\n"
     ]
    }
   ],
   "source": [
    "tuned_rr = GridSearchCV(rr, parameters, scoring = 'neg_root_mean_squared_error', cv = 5)\n",
    "tuned_rr.fit(X,y)\n",
    "print('CV PREDICTION ERROR FOR TUNED RR')\n",
    "print(-tuned_rr.best_score_)\n",
    "print(tuned_rr.best_params_)"
   ]
  },
  {
   "cell_type": "markdown",
   "metadata": {},
   "source": [
    "We find the value of alpha that gives us the lowest cross validation prediction error. The alpha "
   ]
  },
  {
   "cell_type": "markdown",
   "metadata": {},
   "source": [
    "## Lasso Regression"
   ]
  },
  {
   "cell_type": "code",
   "execution_count": 57,
   "metadata": {},
   "outputs": [
    {
     "name": "stdout",
     "output_type": "stream",
     "text": [
      "SCORE FOR UNTUNED LASSO\n",
      "0.3994558059361331\n"
     ]
    }
   ],
   "source": [
    "param_list = []\n",
    "start = 0.0001\n",
    "for i in range(30):\n",
    "    param_list.append(start)\n",
    "    start = start + 0.0001\n",
    "parameters2 = {'alpha': param_list}\n",
    "lasso = Lasso()\n",
    "lasso.fit(X,y)\n",
    "metrics = cross_validate(lasso, X,y, cv = 5, scoring = ('neg_root_mean_squared_error'))\n",
    "print('SCORE FOR UNTUNED LASSO')\n",
    "print(-metrics['test_score'].mean())"
   ]
  },
  {
   "cell_type": "markdown",
   "metadata": {},
   "source": [
    "Tuning the lasso regression model"
   ]
  },
  {
   "cell_type": "code",
   "execution_count": 60,
   "metadata": {},
   "outputs": [],
   "source": [
    "tuned_lasso = GridSearchCV(lasso, parameters2, scoring = 'neg_root_mean_squared_error', cv = 5)\n",
    "tuned_lasso.fit(X,y)\n",
    "best_param = tuned_lasso.best_params_['alpha']\n",
    "lasso_tuned = Lasso(alpha = best_param)\n",
    "lasso_tuned.fit(X,y)\n",
    "metrics = cross_validate(lasso_tuned, X,y, cv = 5, scoring = ('neg_root_mean_squared_error'))\n"
   ]
  },
  {
   "cell_type": "markdown",
   "metadata": {},
   "source": [
    "Analysis of tuned lasso regression model"
   ]
  },
  {
   "cell_type": "code",
   "execution_count": 104,
   "metadata": {},
   "outputs": [
    {
     "name": "stdout",
     "output_type": "stream",
     "text": [
      "BASED ON CV, WE FOUND OPTIMAL ALPHA TO BE:\n",
      "0.0005\n",
      "0.13375088484596281\n",
      "\n",
      "\n",
      "FEATURES WITH NON ZERO COEFFICIENTS FOR LASSO\n",
      "['LotArea', 'OverallQual', 'OverallCond', 'YearBuilt', 'YearRemodAdd', 'MasVnrArea', 'TotalBsmtSF', '1stFlrSF', 'GrLivArea', 'BsmtFullBath', 'FullBath', 'HalfBath', 'BedroomAbvGr', 'TotRmsAbvGrd', 'Fireplaces', 'GarageCars', 'GarageArea', 'WoodDeckSF', 'OpenPorchSF', 'EnclosedPorch', 'ScreenPorch', 'MSSubClass_20', 'MSSubClass_50', 'MSZoning_RL', 'LotShape_IR2', 'LotConfig_Corner', 'LotConfig_CulDSac', 'Neighborhood_BrkSide', 'Neighborhood_ClearCr', 'Neighborhood_Crawfor', 'Neighborhood_NoRidge', 'Neighborhood_NridgHt', 'Neighborhood_Somerst', 'Neighborhood_StoneBr', 'Condition1_Norm', 'Condition1_RRAn', 'BldgType_1Fam', 'Exterior1st_BrkFace', 'Exterior1st_MetalSd', 'Exterior1st_VinylSd', 'Exterior2nd_VinylSd', 'Exterior2nd_Wd Sdng', 'ExterQual_Gd', 'ExterCond_TA', 'Foundation_PConc', 'BsmtQual_Ex', 'BsmtCond_TA', 'BsmtExposure_Gd', 'BsmtFinType1_ALQ', 'BsmtFinType1_GLQ', 'BsmtFinType2_Unf', 'Heating_GasW', 'HeatingQC_Ex', 'HeatingQC_Gd', 'Electrical_FuseA', 'KitchenQual_Ex', 'Functional_Typ', 'GarageType_Attchd', 'GarageType_Detchd', 'GarageQual_Gd', 'GarageCond_TA', 'PavedDrive_Y', 'MoSold_5', 'MoSold_6', 'MoSold_7', 'SaleCondition_Normal']\n"
     ]
    }
   ],
   "source": [
    "print('BASED ON CV, WE FOUND OPTIMAL ALPHA TO BE:')\n",
    "print(best_param)\n",
    "print(-tuned_lasso.best_score_)\n",
    "print()\n",
    "model_coefs = list(lasso_tuned.coef_)\n",
    "\n",
    "good_features = []\n",
    "for i in range(len(model_coefs)):\n",
    "    if model_coefs[i]> 0:\n",
    "        good_features.append(list(X.columns)[i])\n",
    "\n",
    "print('\\n'+'FEATURES WITH NON ZERO COEFFICIENTS FOR LASSO')\n",
    "print(good_features)"
   ]
  },
  {
   "cell_type": "markdown",
   "metadata": {},
   "source": [
    "We perform feature selection based on the coefficients of our lasso regression model, narrowing our features down from 273 to 66"
   ]
  },
  {
   "cell_type": "markdown",
   "metadata": {},
   "source": [
    "The value of alpha that gives us the lowest CV prediction error is 0.0004. This alpha value is very low: when alpha is low it means that the result (model coefficients) become similar to that of the linear regression model."
   ]
  },
  {
   "cell_type": "markdown",
   "metadata": {},
   "source": [
    "## Random Forest"
   ]
  },
  {
   "cell_type": "code",
   "execution_count": null,
   "metadata": {},
   "outputs": [],
   "source": []
  },
  {
   "cell_type": "markdown",
   "metadata": {},
   "source": [
    "## Other concerns and questions"
   ]
  },
  {
   "cell_type": "markdown",
   "metadata": {},
   "source": [
    "1. Running stepwise regresssion techniques in sklearn\n",
    "2. "
   ]
  }
 ],
 "metadata": {
  "kernelspec": {
   "display_name": "Python 3.7.6 64-bit ('3.7.6': pyenv)",
   "language": "python",
   "name": "python37664bit376pyenv016fc51dfd1643ccadebf36b5d805c09"
  },
  "language_info": {
   "codemirror_mode": {
    "name": "ipython",
    "version": 3
   },
   "file_extension": ".py",
   "mimetype": "text/x-python",
   "name": "python",
   "nbconvert_exporter": "python",
   "pygments_lexer": "ipython3",
   "version": "3.7.6"
  }
 },
 "nbformat": 4,
 "nbformat_minor": 4
}
